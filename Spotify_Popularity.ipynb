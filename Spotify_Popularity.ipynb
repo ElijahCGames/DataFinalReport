{
 "cells": [
  {
   "cell_type": "code",
   "execution_count": 4,
   "metadata": {},
   "outputs": [],
   "source": [
    "# Import the proper libraries\n",
    "from urllib.request import Request, urlopen\n",
    "from bs4 import BeautifulSoup\n",
    "import pandas as pd\n",
    "import numpy as np\n",
    "\n",
    "# Link to the wikipedia table\n",
    "url = urlopen(\"https://en.wikipedia.org/wiki/List_of_most-streamed_songs_on_Spotify\")\n",
    "soup = BeautifulSoup(url)"
   ]
  },
  {
   "cell_type": "code",
   "execution_count": 5,
   "metadata": {},
   "outputs": [],
   "source": [
    "# Download the full dataset\n",
    "s_songs = pd.read_csv('https://raw.githubusercontent.com/ElijahCGames/DataFinalReport/main/songs.csv')"
   ]
  },
  {
   "cell_type": "code",
   "execution_count": 6,
   "metadata": {},
   "outputs": [],
   "source": [
    "# Get the table we need\n",
    "table = soup.find_all(\"table\")[0]"
   ]
  },
  {
   "cell_type": "code",
   "execution_count": 9,
   "metadata": {},
   "outputs": [],
   "source": [
    "# Gets list of headers\n",
    "headers = [header.get_text()[0:-1] for header in table.find_all(\"th\")[0:6]]"
   ]
  },
  {
   "cell_type": "code",
   "execution_count": 10,
   "metadata": {},
   "outputs": [],
   "source": [
    "from datetime import datetime\n",
    "\n",
    "\n",
    "df = pd.DataFrame(columns=headers)\n",
    "rows = table.find(\"tbody\").find_all(\"tr\")[1:]\n",
    "\n",
    "# For each row get the data\n",
    "for row in rows[0:-1]:\n",
    "    # Get's the songs row\n",
    "    song = {headers[0]:row.find(\"th\").get_text()[:-1]}\n",
    "    \n",
    "    # Gets the parmeters from the row\n",
    "    params = [param.get_text() for param in row.find_all(\"td\")]\n",
    "    \n",
    "    #Song title\n",
    "    song[headers[1]] = params[0][1:-1]\n",
    "    \n",
    "    # Artists have alot of wrangling to get it to the same format\n",
    "    artists = params[1].strip()\n",
    "    artists = artists.split(\" featuring \")\n",
    "    artists = np.array([x.split(\", \") for x in artists]).flatten()\n",
    "    artists = [str(x) for x in artists]\n",
    "    artists = np.array([x.split(\" and \") for x in artists]).flatten()\n",
    "    artists = [str(x) for x in artists]\n",
    "    artists = [x.replace(\"]\",\"\") for x in artists]\n",
    "    artists = [x.replace(\"[\",\"\") for x in artists]\n",
    "    artists = [x.replace(\"'\",\"\") for x in artists]\n",
    "    if(artists[0] == \"Tones\"):\n",
    "        artists = np.array([\"Tones and I\"])\n",
    "    \n",
    "    song[headers[2]] = artists\n",
    "    # Album\n",
    "    song[headers[3]] = params[2]\n",
    "    # Streams\n",
    "    song[headers[4]] = int(params[3].replace(\",\",\"\"))\n",
    "    # Published Date\n",
    "    date = datetime.strptime(params[4][0:-1],\"%d %B %Y\")\n",
    "    song[headers[5]] = date\n",
    "    \n",
    "    df = df.append(song,ignore_index=True)\n",
    "\n",
    "df = df.set_index(\"Rank\")"
   ]
  },
  {
   "cell_type": "code",
   "execution_count": 12,
   "metadata": {},
   "outputs": [
    {
     "data": {
      "text/html": [
       "<div>\n",
       "<style scoped>\n",
       "    .dataframe tbody tr th:only-of-type {\n",
       "        vertical-align: middle;\n",
       "    }\n",
       "\n",
       "    .dataframe tbody tr th {\n",
       "        vertical-align: top;\n",
       "    }\n",
       "\n",
       "    .dataframe thead th {\n",
       "        text-align: right;\n",
       "    }\n",
       "</style>\n",
       "<table border=\"1\" class=\"dataframe\">\n",
       "  <thead>\n",
       "    <tr style=\"text-align: right;\">\n",
       "      <th></th>\n",
       "      <th>Song</th>\n",
       "      <th>Artist(s)</th>\n",
       "      <th>Album</th>\n",
       "      <th>Streams(Millions)</th>\n",
       "      <th>Date published</th>\n",
       "      <th>Popularity</th>\n",
       "    </tr>\n",
       "    <tr>\n",
       "      <th>Rank</th>\n",
       "      <th></th>\n",
       "      <th></th>\n",
       "      <th></th>\n",
       "      <th></th>\n",
       "      <th></th>\n",
       "      <th></th>\n",
       "    </tr>\n",
       "  </thead>\n",
       "  <tbody>\n",
       "    <tr>\n",
       "      <th>1</th>\n",
       "      <td>Shape of You</td>\n",
       "      <td>[Ed Sheeran]</td>\n",
       "      <td>÷</td>\n",
       "      <td>2660</td>\n",
       "      <td>2017-01-06</td>\n",
       "      <td>85</td>\n",
       "    </tr>\n",
       "    <tr>\n",
       "      <th>2</th>\n",
       "      <td>rockstar (feat. 21 Savage)</td>\n",
       "      <td>[Post Malone, 21 Savage]</td>\n",
       "      <td>Beerbongs &amp; Bentleys</td>\n",
       "      <td>2070</td>\n",
       "      <td>2017-09-15</td>\n",
       "      <td>86</td>\n",
       "    </tr>\n",
       "    <tr>\n",
       "      <th>3</th>\n",
       "      <td>Dance Monkey</td>\n",
       "      <td>[Tones and I]</td>\n",
       "      <td>The Kids Are Coming</td>\n",
       "      <td>1974</td>\n",
       "      <td>2019-05-10</td>\n",
       "      <td>89</td>\n",
       "    </tr>\n",
       "    <tr>\n",
       "      <th>4</th>\n",
       "      <td>One Dance</td>\n",
       "      <td>[Drake, Wizkid, Kyla]</td>\n",
       "      <td>Views</td>\n",
       "      <td>1946</td>\n",
       "      <td>2016-04-05</td>\n",
       "      <td>81</td>\n",
       "    </tr>\n",
       "    <tr>\n",
       "      <th>5</th>\n",
       "      <td>Closer</td>\n",
       "      <td>[The Chainsmokers, Halsey]</td>\n",
       "      <td>Collage</td>\n",
       "      <td>1900</td>\n",
       "      <td>2016-07-29</td>\n",
       "      <td>84</td>\n",
       "    </tr>\n",
       "  </tbody>\n",
       "</table>\n",
       "</div>"
      ],
      "text/plain": [
       "                            Song                   Artist(s)  \\\n",
       "Rank                                                           \n",
       "1                   Shape of You                [Ed Sheeran]   \n",
       "2     rockstar (feat. 21 Savage)    [Post Malone, 21 Savage]   \n",
       "3                   Dance Monkey               [Tones and I]   \n",
       "4                      One Dance       [Drake, Wizkid, Kyla]   \n",
       "5                         Closer  [The Chainsmokers, Halsey]   \n",
       "\n",
       "                     Album Streams(Millions) Date published  Popularity  \n",
       "Rank                                                                     \n",
       "1                        ÷              2660     2017-01-06          85  \n",
       "2     Beerbongs & Bentleys              2070     2017-09-15          86  \n",
       "3      The Kids Are Coming              1974     2019-05-10          89  \n",
       "4                    Views              1946     2016-04-05          81  \n",
       "5                  Collage              1900     2016-07-29          84  "
      ]
     },
     "execution_count": 12,
     "metadata": {},
     "output_type": "execute_result"
    }
   ],
   "source": [
    "# Alot of the songs are not the same string in the two datasets, so we have to brute force the corrections.\n",
    "fix_dict = {\"Rockstar\":\"rockstar (feat. 21 Savage)\",\n",
    "            \"Sunflower\":\"Sunflower - Spider-Man: Into the Spider-Verse\",\n",
    "            \"Thinking Out Loud\":\"Thinking out Loud\",\n",
    "            \"Bad Guy\":\"bad guy\",\n",
    "            \"Havana\":\"Havana (feat. Young Thug)\",\n",
    "            \"Despacito (Remix)\":\"Despacito - Remix\",\n",
    "            \"Humble\":\"HUMBLE.\",\n",
    "            \"Sad!\":\"SAD!\",\n",
    "            \"I Took a Pill in Ibiza (Seeb Remix)\":\"I Took A Pill In Ibiza - Seeb Remix\",\n",
    "            \"7 Rings\":\"7 rings\",\n",
    "            \"Sicko Mode\":\"SICKO MODE\",\n",
    "            \"Take Me To Church\":\"Take Me to Church\",\n",
    "            \"Stay with Me\":\"Stay With Me\",\n",
    "            \"Goosebumps\":\"goosebumps\",\n",
    "            \"Uptown Funk\":\"Uptown Funk (feat. Bruno Mars)\",\n",
    "            \"Thank U, Next\":\"thank u, next\",\n",
    "            \"Lovely\":\"lovely (with Khalid)\",\n",
    "            \"I Don't Care\":\"I Don't Care (with Justin Bieber)\",\n",
    "            \"Too Good at Goodbyes\":\"Too Good At Goodbyes\",\n",
    "            \"Can't Hold Us\":\"Can't Hold Us - feat. Ray Dalton\",\n",
    "            \"Psycho\":\"Psycho (feat. Ty Dolla $ign)\",\n",
    "            \"See You Again\":\"See You Again (feat. Charlie Puth)\",\n",
    "            \"One Kiss\":\"One Kiss (with Dua Lipa)\",\n",
    "            \"Cheerleader (Felix Jaehn Remix)\":\"Cheerleader - Felix Jaehn Remix Radio Edit\",\n",
    "            \"Eastside\":\"Eastside (with Halsey & Khalid)\",\n",
    "            \"Old Town Road (Remix)\":\"Old Town Road - Remix\",\n",
    "            \"This Is What You Came For\":\"This Is What You Came For (feat. Rihanna)\",\n",
    "            \"Taki Taki\":\"Taki Taki (with Selena Gomez, Ozuna & Cardi B)\",\n",
    "            \"We Don't Talk Anymore\":\"We Don't Talk Anymore (feat. Selena Gomez)\",\n",
    "            \"Work from Home\":\"Work from Home (feat. Ty Dolla $ign)\",\n",
    "            \"I Don't Wanna Live Forever\":\"I Don’t Wanna Live Forever (Fifty Shades Darker)\",\n",
    "            \"Roses (Imanbek Remix)\":\"Roses - Imanbek Remix\"}\n",
    "\n",
    "def fix_song(song_name):\n",
    "    if(song_name in fix_dict):\n",
    "        return fix_dict[song_name]\n",
    "    else:\n",
    "        return song_name\n",
    "\n",
    "def find_song(song_name):\n",
    "    return s_songs[s_songs[\"name\"] == song_name][\"popularity\"].max()\n",
    "    \n",
    "\n",
    "# Fix songs titles, and join popularity based on them.\n",
    "df[\"Song\"] = df[\"Song\"].map(fix_song)\n",
    "df[\"Popularity\"] = df[\"Song\"].map(find_song)\n",
    "df = df.dropna()\n",
    "df.head()"
   ]
  },
  {
   "cell_type": "code",
   "execution_count": 11,
   "metadata": {},
   "outputs": [],
   "source": [
    "# Write CSV\n",
    "df.to_csv(\"top100streams.csv\")"
   ]
  },
  {
   "cell_type": "code",
   "execution_count": 29,
   "metadata": {},
   "outputs": [
    {
     "data": {
      "text/plain": [
       "Text(0, 0.5, 'Popularity')"
      ]
     },
     "execution_count": 29,
     "metadata": {},
     "output_type": "execute_result"
    },
    {
     "data": {
      "image/png": "[encoded data removed]",
      "text/plain": [
       "<Figure size 432x288 with 1 Axes>"
      ]
     },
     "metadata": {
      "needs_background": "light"
     },
     "output_type": "display_data"
    }
   ],
   "source": [
    "# Some inital explorations of this dataset,\n",
    "# This isn't offical to the report, but we're including them for reference.\n",
    "import seaborn as sns\n",
    "\n",
    "df[\"LogStreams\"] = np.log(df[\"Streams(Millions)\"])\n",
    "\n",
    "# create and display the scatter plot\n",
    "graph = sns.scatterplot(x=\"Streams(Millions)\", y=\"Popularity\", data = df[df[\"Date published\"] > datetime(2010,1,1)], \n",
    "                        marker = \"o\", s=100, color = \"darkgreen\", alpha=0.5)\n",
    "\n",
    "#specify the title\n",
    "title = \"Popularity Compared to Total Streams\"\n",
    "\n",
    "#set the title of the plot\n",
    "graph.set_title(title, size = 16)\n",
    "\n",
    "#add labels to the axes  \n",
    "graph.set_xlabel(\"Streams\", size = 16)\n",
    "graph.set_ylabel(\"Popularity\", size = 16)"
   ]
  },
  {
   "cell_type": "code",
   "execution_count": 36,
   "metadata": {},
   "outputs": [
    {
     "name": "stdout",
     "output_type": "stream",
     "text": [
      "R-squared value for training set:  0.4468611720343223\n",
      "R-squared value for testing set:  0.11646564125262804\n"
     ]
    }
   ],
   "source": [
    "from sklearn.neighbors import KNeighborsRegressor\n",
    "from sklearn.model_selection import train_test_split\n",
    "from sklearn.metrics import r2_score\n",
    "\n",
    "# Quick regression to test how well the date and streams coorelate to populariy. \n",
    "model = KNeighborsRegressor()\n",
    "\n",
    "df[\"Date From 2010\"] = df[\"Date published\"] - datetime(2010,1,1)\n",
    "df[\"Date From 2010\"] = [int(str(da)[0:4]) for da in df[\"Date From 2010\"]]\n",
    "df[\"Streams(Millions)\"] = [int(da) for da in df[\"Streams(Millions)\"]]\n",
    "\n",
    "df.dropna()\n",
    "features = df[[\"Streams(Millions)\",\"Date From 2010\"]]\n",
    "target = df[\"Popularity\"]\n",
    "\n",
    "X_train, X_test, y_train, y_test = train_test_split(features, target, random_state=3000)\n",
    "model = KNeighborsRegressor(n_neighbors = 5).fit(X=X_train, y=y_train)\n",
    "\n",
    "model.fit(X = X_train, y=y_train)\n",
    "\n",
    "print(\"R-squared value for training set: \", r2_score(y_train, model.predict(X_train)))\n",
    "print(\"R-squared value for testing set: \", r2_score(y_test, model.predict(X_test)))"
   ]
  },
  {
   "cell_type": "code",
   "execution_count": 28,
   "metadata": {},
   "outputs": [
    {
     "data": {
      "text/plain": [
       "0.3564564027115106"
      ]
     },
     "execution_count": 28,
     "metadata": {},
     "output_type": "execute_result"
    }
   ],
   "source": [
    "model.score(features,target)"
   ]
  },
  {
   "cell_type": "code",
   "execution_count": 39,
   "metadata": {},
   "outputs": [],
   "source": [
    "songs2010 = s_songs[s_songs[\"year\"] >= 2010]"
   ]
  },
  {
   "cell_type": "code",
   "execution_count": 42,
   "metadata": {},
   "outputs": [],
   "source": [
    "songs2010.to_csv(\"songs.csv\")"
   ]
  },
  {
   "cell_type": "code",
   "execution_count": null,
   "metadata": {},
   "outputs": [],
   "source": []
  }
 ],
 "metadata": {
  "kernelspec": {
   "display_name": "Python 3",
   "language": "python",
   "name": "python3"
  },
  "language_info": {
   "codemirror_mode": {
    "name": "ipython",
    "version": 3
   },
   "file_extension": ".py",
   "mimetype": "text/x-python",
   "name": "python",
   "nbconvert_exporter": "python",
   "pygments_lexer": "ipython3",
   "version": "3.7.6"
  }
 },
 "nbformat": 4,
 "nbformat_minor": 4
}
